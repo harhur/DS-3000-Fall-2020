{
 "cells": [
  {
   "cell_type": "code",
   "execution_count": null,
   "metadata": {},
   "outputs": [],
   "source": [
    "import tweepy\n",
    "import TwitterCredentials as keys\n",
    "import pandas as pd\n",
    "\n",
    "auth = tweepy.OAuthHandler(keys.consumer_API_key, keys.consumer_API_secret_key)\n",
    "auth.set_access_token(keys.access_token, keys.access_token_secret)\n",
    "api = tweepy.API(auth, wait_on_rate_limit=True, wait_on_rate_limit_notify=True)\n",
    "\n",
    "# replace company name with desired company, and date range with desired dates\n",
    "cursor = tweepy.Cursor(api.search, q=\"#amazon since:2020-12-8 until:2020-12-9 -filter:retweets\", count=300, tweet_mode=\"extended\")\n",
    "\n",
    "df = pd.DataFrame(columns=[\"text\"])\n",
    "\n",
    "for num, tweet in enumerate(cursor.items(300)):\n",
    "    df.loc[num] = [tweet.full_text]\n",
    "    \n",
    "# replace file name with relevant file name including date and company initials\n",
    "df.to_csv(\"December8th_AM.csv\")"
   ]
  }
 ],
 "metadata": {
  "kernelspec": {
   "display_name": "Python 3",
   "language": "python",
   "name": "python3"
  },
  "language_info": {
   "codemirror_mode": {
    "name": "ipython",
    "version": 3
   },
   "file_extension": ".py",
   "mimetype": "text/x-python",
   "name": "python",
   "nbconvert_exporter": "python",
   "pygments_lexer": "ipython3",
   "version": "3.7.1"
  }
 },
 "nbformat": 4,
 "nbformat_minor": 4
}
